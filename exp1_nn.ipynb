{
  "nbformat": 4,
  "nbformat_minor": 0,
  "metadata": {
    "colab": {
      "provenance": []
    },
    "kernelspec": {
      "name": "python3",
      "display_name": "Python 3"
    },
    "language_info": {
      "name": "python"
    }
  },
  "cells": [
    {
      "cell_type": "code",
      "execution_count": 13,
      "metadata": {
        "id": "Etwzu7-CMp1Q"
      },
      "outputs": [],
      "source": [
        "import pandas as pd\n",
        "from sklearn.preprocessing import MinMaxScaler\n",
        "from sklearn.model_selection import train_test_split"
      ]
    },
    {
      "cell_type": "code",
      "source": [
        "df = pd.read_csv('Churn_Modelling.csv')\n",
        "print(df)"
      ],
      "metadata": {
        "colab": {
          "base_uri": "https://localhost:8080/"
        },
        "id": "_HrwBaWIMwqP",
        "outputId": "12e10e9e-6087-465e-aaa1-e6a01f08a927"
      },
      "execution_count": 14,
      "outputs": [
        {
          "output_type": "stream",
          "name": "stdout",
          "text": [
            "      RowNumber  CustomerId    Surname  CreditScore Geography  Gender  Age  \\\n",
            "0             1    15634602   Hargrave          619    France  Female   42   \n",
            "1             2    15647311       Hill          608     Spain  Female   41   \n",
            "2             3    15619304       Onio          502    France  Female   42   \n",
            "3             4    15701354       Boni          699    France  Female   39   \n",
            "4             5    15737888   Mitchell          850     Spain  Female   43   \n",
            "...         ...         ...        ...          ...       ...     ...  ...   \n",
            "9995       9996    15606229   Obijiaku          771    France    Male   39   \n",
            "9996       9997    15569892  Johnstone          516    France    Male   35   \n",
            "9997       9998    15584532        Liu          709    France  Female   36   \n",
            "9998       9999    15682355  Sabbatini          772   Germany    Male   42   \n",
            "9999      10000    15628319     Walker          792    France  Female   28   \n",
            "\n",
            "      Tenure    Balance  NumOfProducts  HasCrCard  IsActiveMember  \\\n",
            "0          2       0.00              1          1               1   \n",
            "1          1   83807.86              1          0               1   \n",
            "2          8  159660.80              3          1               0   \n",
            "3          1       0.00              2          0               0   \n",
            "4          2  125510.82              1          1               1   \n",
            "...      ...        ...            ...        ...             ...   \n",
            "9995       5       0.00              2          1               0   \n",
            "9996      10   57369.61              1          1               1   \n",
            "9997       7       0.00              1          0               1   \n",
            "9998       3   75075.31              2          1               0   \n",
            "9999       4  130142.79              1          1               0   \n",
            "\n",
            "      EstimatedSalary  Exited  \n",
            "0           101348.88       1  \n",
            "1           112542.58       0  \n",
            "2           113931.57       1  \n",
            "3            93826.63       0  \n",
            "4            79084.10       0  \n",
            "...               ...     ...  \n",
            "9995         96270.64       0  \n",
            "9996        101699.77       0  \n",
            "9997         42085.58       1  \n",
            "9998         92888.52       1  \n",
            "9999         38190.78       0  \n",
            "\n",
            "[10000 rows x 14 columns]\n"
          ]
        }
      ]
    },
    {
      "cell_type": "code",
      "source": [
        "X = df.iloc[:, :-1].values\n",
        "print(X)"
      ],
      "metadata": {
        "colab": {
          "base_uri": "https://localhost:8080/"
        },
        "id": "ZTi1HzdmNI0b",
        "outputId": "582ff291-b355-4033-de4d-78e4cdcf2aef"
      },
      "execution_count": 15,
      "outputs": [
        {
          "output_type": "stream",
          "name": "stdout",
          "text": [
            "[[1 15634602 'Hargrave' ... 1 1 101348.88]\n",
            " [2 15647311 'Hill' ... 0 1 112542.58]\n",
            " [3 15619304 'Onio' ... 1 0 113931.57]\n",
            " ...\n",
            " [9998 15584532 'Liu' ... 0 1 42085.58]\n",
            " [9999 15682355 'Sabbatini' ... 1 0 92888.52]\n",
            " [10000 15628319 'Walker' ... 1 0 38190.78]]\n"
          ]
        }
      ]
    },
    {
      "cell_type": "code",
      "source": [
        "y = df.iloc[:, -1].values\n",
        "print(y)"
      ],
      "metadata": {
        "colab": {
          "base_uri": "https://localhost:8080/"
        },
        "id": "sLHQjn6IRFX9",
        "outputId": "7fc2e47c-efa7-4f54-b8f2-7e5e729c5437"
      },
      "execution_count": 16,
      "outputs": [
        {
          "output_type": "stream",
          "name": "stdout",
          "text": [
            "[1 0 1 ... 1 1 0]\n"
          ]
        }
      ]
    },
    {
      "cell_type": "code",
      "source": [
        "print(df.isnull().sum())"
      ],
      "metadata": {
        "colab": {
          "base_uri": "https://localhost:8080/"
        },
        "id": "g9yto5ZmRIWm",
        "outputId": "6fdbbddb-c017-4e47-e970-e2c30203f329"
      },
      "execution_count": 17,
      "outputs": [
        {
          "output_type": "stream",
          "name": "stdout",
          "text": [
            "RowNumber          0\n",
            "CustomerId         0\n",
            "Surname            0\n",
            "CreditScore        0\n",
            "Geography          0\n",
            "Gender             0\n",
            "Age                0\n",
            "Tenure             0\n",
            "Balance            0\n",
            "NumOfProducts      0\n",
            "HasCrCard          0\n",
            "IsActiveMember     0\n",
            "EstimatedSalary    0\n",
            "Exited             0\n",
            "dtype: int64\n"
          ]
        }
      ]
    },
    {
      "cell_type": "code",
      "source": [
        "print(df.describe())"
      ],
      "metadata": {
        "colab": {
          "base_uri": "https://localhost:8080/"
        },
        "id": "21i9v-HORVd3",
        "outputId": "563df52b-d06d-41f5-c09c-8968cc2dc1bf"
      },
      "execution_count": 19,
      "outputs": [
        {
          "output_type": "stream",
          "name": "stdout",
          "text": [
            "         RowNumber    CustomerId   CreditScore           Age        Tenure  \\\n",
            "count  10000.00000  1.000000e+04  10000.000000  10000.000000  10000.000000   \n",
            "mean    5000.50000  1.569094e+07    650.528800     38.921800      5.012800   \n",
            "std     2886.89568  7.193619e+04     96.653299     10.487806      2.892174   \n",
            "min        1.00000  1.556570e+07    350.000000     18.000000      0.000000   \n",
            "25%     2500.75000  1.562853e+07    584.000000     32.000000      3.000000   \n",
            "50%     5000.50000  1.569074e+07    652.000000     37.000000      5.000000   \n",
            "75%     7500.25000  1.575323e+07    718.000000     44.000000      7.000000   \n",
            "max    10000.00000  1.581569e+07    850.000000     92.000000     10.000000   \n",
            "\n",
            "             Balance  NumOfProducts    HasCrCard  IsActiveMember  \\\n",
            "count   10000.000000   10000.000000  10000.00000    10000.000000   \n",
            "mean    76485.889288       1.530200      0.70550        0.515100   \n",
            "std     62397.405202       0.581654      0.45584        0.499797   \n",
            "min         0.000000       1.000000      0.00000        0.000000   \n",
            "25%         0.000000       1.000000      0.00000        0.000000   \n",
            "50%     97198.540000       1.000000      1.00000        1.000000   \n",
            "75%    127644.240000       2.000000      1.00000        1.000000   \n",
            "max    250898.090000       4.000000      1.00000        1.000000   \n",
            "\n",
            "       EstimatedSalary        Exited  \n",
            "count     10000.000000  10000.000000  \n",
            "mean     100090.239881      0.203700  \n",
            "std       57510.492818      0.402769  \n",
            "min          11.580000      0.000000  \n",
            "25%       51002.110000      0.000000  \n",
            "50%      100193.915000      0.000000  \n",
            "75%      149388.247500      0.000000  \n",
            "max      199992.480000      1.000000  \n"
          ]
        }
      ]
    },
    {
      "cell_type": "code",
      "source": [
        "data = df.drop(['Surname', 'Geography','Gender'], axis=1)\n",
        "data.head()"
      ],
      "metadata": {
        "colab": {
          "base_uri": "https://localhost:8080/",
          "height": 206
        },
        "id": "tZx0eXH9RYZE",
        "outputId": "bd8748bc-74b5-4cfb-9396-1e1194d007ac"
      },
      "execution_count": 20,
      "outputs": [
        {
          "output_type": "execute_result",
          "data": {
            "text/plain": [
              "   RowNumber  CustomerId  CreditScore  Age  Tenure    Balance  NumOfProducts  \\\n",
              "0          1    15634602          619   42       2       0.00              1   \n",
              "1          2    15647311          608   41       1   83807.86              1   \n",
              "2          3    15619304          502   42       8  159660.80              3   \n",
              "3          4    15701354          699   39       1       0.00              2   \n",
              "4          5    15737888          850   43       2  125510.82              1   \n",
              "\n",
              "   HasCrCard  IsActiveMember  EstimatedSalary  Exited  \n",
              "0          1               1        101348.88       1  \n",
              "1          0               1        112542.58       0  \n",
              "2          1               0        113931.57       1  \n",
              "3          0               0         93826.63       0  \n",
              "4          1               1         79084.10       0  "
            ],
            "text/html": [
              "\n",
              "  <div id=\"df-ed431c5e-c459-4993-97ba-5d5761ad95f4\" class=\"colab-df-container\">\n",
              "    <div>\n",
              "<style scoped>\n",
              "    .dataframe tbody tr th:only-of-type {\n",
              "        vertical-align: middle;\n",
              "    }\n",
              "\n",
              "    .dataframe tbody tr th {\n",
              "        vertical-align: top;\n",
              "    }\n",
              "\n",
              "    .dataframe thead th {\n",
              "        text-align: right;\n",
              "    }\n",
              "</style>\n",
              "<table border=\"1\" class=\"dataframe\">\n",
              "  <thead>\n",
              "    <tr style=\"text-align: right;\">\n",
              "      <th></th>\n",
              "      <th>RowNumber</th>\n",
              "      <th>CustomerId</th>\n",
              "      <th>CreditScore</th>\n",
              "      <th>Age</th>\n",
              "      <th>Tenure</th>\n",
              "      <th>Balance</th>\n",
              "      <th>NumOfProducts</th>\n",
              "      <th>HasCrCard</th>\n",
              "      <th>IsActiveMember</th>\n",
              "      <th>EstimatedSalary</th>\n",
              "      <th>Exited</th>\n",
              "    </tr>\n",
              "  </thead>\n",
              "  <tbody>\n",
              "    <tr>\n",
              "      <th>0</th>\n",
              "      <td>1</td>\n",
              "      <td>15634602</td>\n",
              "      <td>619</td>\n",
              "      <td>42</td>\n",
              "      <td>2</td>\n",
              "      <td>0.00</td>\n",
              "      <td>1</td>\n",
              "      <td>1</td>\n",
              "      <td>1</td>\n",
              "      <td>101348.88</td>\n",
              "      <td>1</td>\n",
              "    </tr>\n",
              "    <tr>\n",
              "      <th>1</th>\n",
              "      <td>2</td>\n",
              "      <td>15647311</td>\n",
              "      <td>608</td>\n",
              "      <td>41</td>\n",
              "      <td>1</td>\n",
              "      <td>83807.86</td>\n",
              "      <td>1</td>\n",
              "      <td>0</td>\n",
              "      <td>1</td>\n",
              "      <td>112542.58</td>\n",
              "      <td>0</td>\n",
              "    </tr>\n",
              "    <tr>\n",
              "      <th>2</th>\n",
              "      <td>3</td>\n",
              "      <td>15619304</td>\n",
              "      <td>502</td>\n",
              "      <td>42</td>\n",
              "      <td>8</td>\n",
              "      <td>159660.80</td>\n",
              "      <td>3</td>\n",
              "      <td>1</td>\n",
              "      <td>0</td>\n",
              "      <td>113931.57</td>\n",
              "      <td>1</td>\n",
              "    </tr>\n",
              "    <tr>\n",
              "      <th>3</th>\n",
              "      <td>4</td>\n",
              "      <td>15701354</td>\n",
              "      <td>699</td>\n",
              "      <td>39</td>\n",
              "      <td>1</td>\n",
              "      <td>0.00</td>\n",
              "      <td>2</td>\n",
              "      <td>0</td>\n",
              "      <td>0</td>\n",
              "      <td>93826.63</td>\n",
              "      <td>0</td>\n",
              "    </tr>\n",
              "    <tr>\n",
              "      <th>4</th>\n",
              "      <td>5</td>\n",
              "      <td>15737888</td>\n",
              "      <td>850</td>\n",
              "      <td>43</td>\n",
              "      <td>2</td>\n",
              "      <td>125510.82</td>\n",
              "      <td>1</td>\n",
              "      <td>1</td>\n",
              "      <td>1</td>\n",
              "      <td>79084.10</td>\n",
              "      <td>0</td>\n",
              "    </tr>\n",
              "  </tbody>\n",
              "</table>\n",
              "</div>\n",
              "    <div class=\"colab-df-buttons\">\n",
              "\n",
              "  <div class=\"colab-df-container\">\n",
              "    <button class=\"colab-df-convert\" onclick=\"convertToInteractive('df-ed431c5e-c459-4993-97ba-5d5761ad95f4')\"\n",
              "            title=\"Convert this dataframe to an interactive table.\"\n",
              "            style=\"display:none;\">\n",
              "\n",
              "  <svg xmlns=\"http://www.w3.org/2000/svg\" height=\"24px\" viewBox=\"0 -960 960 960\">\n",
              "    <path d=\"M120-120v-720h720v720H120Zm60-500h600v-160H180v160Zm220 220h160v-160H400v160Zm0 220h160v-160H400v160ZM180-400h160v-160H180v160Zm440 0h160v-160H620v160ZM180-180h160v-160H180v160Zm440 0h160v-160H620v160Z\"/>\n",
              "  </svg>\n",
              "    </button>\n",
              "\n",
              "  <style>\n",
              "    .colab-df-container {\n",
              "      display:flex;\n",
              "      gap: 12px;\n",
              "    }\n",
              "\n",
              "    .colab-df-convert {\n",
              "      background-color: #E8F0FE;\n",
              "      border: none;\n",
              "      border-radius: 50%;\n",
              "      cursor: pointer;\n",
              "      display: none;\n",
              "      fill: #1967D2;\n",
              "      height: 32px;\n",
              "      padding: 0 0 0 0;\n",
              "      width: 32px;\n",
              "    }\n",
              "\n",
              "    .colab-df-convert:hover {\n",
              "      background-color: #E2EBFA;\n",
              "      box-shadow: 0px 1px 2px rgba(60, 64, 67, 0.3), 0px 1px 3px 1px rgba(60, 64, 67, 0.15);\n",
              "      fill: #174EA6;\n",
              "    }\n",
              "\n",
              "    .colab-df-buttons div {\n",
              "      margin-bottom: 4px;\n",
              "    }\n",
              "\n",
              "    [theme=dark] .colab-df-convert {\n",
              "      background-color: #3B4455;\n",
              "      fill: #D2E3FC;\n",
              "    }\n",
              "\n",
              "    [theme=dark] .colab-df-convert:hover {\n",
              "      background-color: #434B5C;\n",
              "      box-shadow: 0px 1px 3px 1px rgba(0, 0, 0, 0.15);\n",
              "      filter: drop-shadow(0px 1px 2px rgba(0, 0, 0, 0.3));\n",
              "      fill: #FFFFFF;\n",
              "    }\n",
              "  </style>\n",
              "\n",
              "    <script>\n",
              "      const buttonEl =\n",
              "        document.querySelector('#df-ed431c5e-c459-4993-97ba-5d5761ad95f4 button.colab-df-convert');\n",
              "      buttonEl.style.display =\n",
              "        google.colab.kernel.accessAllowed ? 'block' : 'none';\n",
              "\n",
              "      async function convertToInteractive(key) {\n",
              "        const element = document.querySelector('#df-ed431c5e-c459-4993-97ba-5d5761ad95f4');\n",
              "        const dataTable =\n",
              "          await google.colab.kernel.invokeFunction('convertToInteractive',\n",
              "                                                    [key], {});\n",
              "        if (!dataTable) return;\n",
              "\n",
              "        const docLinkHtml = 'Like what you see? Visit the ' +\n",
              "          '<a target=\"_blank\" href=https://colab.research.google.com/notebooks/data_table.ipynb>data table notebook</a>'\n",
              "          + ' to learn more about interactive tables.';\n",
              "        element.innerHTML = '';\n",
              "        dataTable['output_type'] = 'display_data';\n",
              "        await google.colab.output.renderOutput(dataTable, element);\n",
              "        const docLink = document.createElement('div');\n",
              "        docLink.innerHTML = docLinkHtml;\n",
              "        element.appendChild(docLink);\n",
              "      }\n",
              "    </script>\n",
              "  </div>\n",
              "\n",
              "\n",
              "<div id=\"df-898d820e-8f14-4698-bba2-00b29cf8972c\">\n",
              "  <button class=\"colab-df-quickchart\" onclick=\"quickchart('df-898d820e-8f14-4698-bba2-00b29cf8972c')\"\n",
              "            title=\"Suggest charts\"\n",
              "            style=\"display:none;\">\n",
              "\n",
              "<svg xmlns=\"http://www.w3.org/2000/svg\" height=\"24px\"viewBox=\"0 0 24 24\"\n",
              "     width=\"24px\">\n",
              "    <g>\n",
              "        <path d=\"M19 3H5c-1.1 0-2 .9-2 2v14c0 1.1.9 2 2 2h14c1.1 0 2-.9 2-2V5c0-1.1-.9-2-2-2zM9 17H7v-7h2v7zm4 0h-2V7h2v10zm4 0h-2v-4h2v4z\"/>\n",
              "    </g>\n",
              "</svg>\n",
              "  </button>\n",
              "\n",
              "<style>\n",
              "  .colab-df-quickchart {\n",
              "      --bg-color: #E8F0FE;\n",
              "      --fill-color: #1967D2;\n",
              "      --hover-bg-color: #E2EBFA;\n",
              "      --hover-fill-color: #174EA6;\n",
              "      --disabled-fill-color: #AAA;\n",
              "      --disabled-bg-color: #DDD;\n",
              "  }\n",
              "\n",
              "  [theme=dark] .colab-df-quickchart {\n",
              "      --bg-color: #3B4455;\n",
              "      --fill-color: #D2E3FC;\n",
              "      --hover-bg-color: #434B5C;\n",
              "      --hover-fill-color: #FFFFFF;\n",
              "      --disabled-bg-color: #3B4455;\n",
              "      --disabled-fill-color: #666;\n",
              "  }\n",
              "\n",
              "  .colab-df-quickchart {\n",
              "    background-color: var(--bg-color);\n",
              "    border: none;\n",
              "    border-radius: 50%;\n",
              "    cursor: pointer;\n",
              "    display: none;\n",
              "    fill: var(--fill-color);\n",
              "    height: 32px;\n",
              "    padding: 0;\n",
              "    width: 32px;\n",
              "  }\n",
              "\n",
              "  .colab-df-quickchart:hover {\n",
              "    background-color: var(--hover-bg-color);\n",
              "    box-shadow: 0 1px 2px rgba(60, 64, 67, 0.3), 0 1px 3px 1px rgba(60, 64, 67, 0.15);\n",
              "    fill: var(--button-hover-fill-color);\n",
              "  }\n",
              "\n",
              "  .colab-df-quickchart-complete:disabled,\n",
              "  .colab-df-quickchart-complete:disabled:hover {\n",
              "    background-color: var(--disabled-bg-color);\n",
              "    fill: var(--disabled-fill-color);\n",
              "    box-shadow: none;\n",
              "  }\n",
              "\n",
              "  .colab-df-spinner {\n",
              "    border: 2px solid var(--fill-color);\n",
              "    border-color: transparent;\n",
              "    border-bottom-color: var(--fill-color);\n",
              "    animation:\n",
              "      spin 1s steps(1) infinite;\n",
              "  }\n",
              "\n",
              "  @keyframes spin {\n",
              "    0% {\n",
              "      border-color: transparent;\n",
              "      border-bottom-color: var(--fill-color);\n",
              "      border-left-color: var(--fill-color);\n",
              "    }\n",
              "    20% {\n",
              "      border-color: transparent;\n",
              "      border-left-color: var(--fill-color);\n",
              "      border-top-color: var(--fill-color);\n",
              "    }\n",
              "    30% {\n",
              "      border-color: transparent;\n",
              "      border-left-color: var(--fill-color);\n",
              "      border-top-color: var(--fill-color);\n",
              "      border-right-color: var(--fill-color);\n",
              "    }\n",
              "    40% {\n",
              "      border-color: transparent;\n",
              "      border-right-color: var(--fill-color);\n",
              "      border-top-color: var(--fill-color);\n",
              "    }\n",
              "    60% {\n",
              "      border-color: transparent;\n",
              "      border-right-color: var(--fill-color);\n",
              "    }\n",
              "    80% {\n",
              "      border-color: transparent;\n",
              "      border-right-color: var(--fill-color);\n",
              "      border-bottom-color: var(--fill-color);\n",
              "    }\n",
              "    90% {\n",
              "      border-color: transparent;\n",
              "      border-bottom-color: var(--fill-color);\n",
              "    }\n",
              "  }\n",
              "</style>\n",
              "\n",
              "  <script>\n",
              "    async function quickchart(key) {\n",
              "      const quickchartButtonEl =\n",
              "        document.querySelector('#' + key + ' button');\n",
              "      quickchartButtonEl.disabled = true;  // To prevent multiple clicks.\n",
              "      quickchartButtonEl.classList.add('colab-df-spinner');\n",
              "      try {\n",
              "        const charts = await google.colab.kernel.invokeFunction(\n",
              "            'suggestCharts', [key], {});\n",
              "      } catch (error) {\n",
              "        console.error('Error during call to suggestCharts:', error);\n",
              "      }\n",
              "      quickchartButtonEl.classList.remove('colab-df-spinner');\n",
              "      quickchartButtonEl.classList.add('colab-df-quickchart-complete');\n",
              "    }\n",
              "    (() => {\n",
              "      let quickchartButtonEl =\n",
              "        document.querySelector('#df-898d820e-8f14-4698-bba2-00b29cf8972c button');\n",
              "      quickchartButtonEl.style.display =\n",
              "        google.colab.kernel.accessAllowed ? 'block' : 'none';\n",
              "    })();\n",
              "  </script>\n",
              "</div>\n",
              "\n",
              "    </div>\n",
              "  </div>\n"
            ],
            "application/vnd.google.colaboratory.intrinsic+json": {
              "type": "dataframe",
              "variable_name": "data",
              "summary": "{\n  \"name\": \"data\",\n  \"rows\": 10000,\n  \"fields\": [\n    {\n      \"column\": \"RowNumber\",\n      \"properties\": {\n        \"dtype\": \"number\",\n        \"std\": 2886,\n        \"min\": 1,\n        \"max\": 10000,\n        \"num_unique_values\": 10000,\n        \"samples\": [\n          6253,\n          4685,\n          1732\n        ],\n        \"semantic_type\": \"\",\n        \"description\": \"\"\n      }\n    },\n    {\n      \"column\": \"CustomerId\",\n      \"properties\": {\n        \"dtype\": \"number\",\n        \"std\": 71936,\n        \"min\": 15565701,\n        \"max\": 15815690,\n        \"num_unique_values\": 10000,\n        \"samples\": [\n          15687492,\n          15736963,\n          15721730\n        ],\n        \"semantic_type\": \"\",\n        \"description\": \"\"\n      }\n    },\n    {\n      \"column\": \"CreditScore\",\n      \"properties\": {\n        \"dtype\": \"number\",\n        \"std\": 96,\n        \"min\": 350,\n        \"max\": 850,\n        \"num_unique_values\": 460,\n        \"samples\": [\n          754,\n          533,\n          744\n        ],\n        \"semantic_type\": \"\",\n        \"description\": \"\"\n      }\n    },\n    {\n      \"column\": \"Age\",\n      \"properties\": {\n        \"dtype\": \"number\",\n        \"std\": 10,\n        \"min\": 18,\n        \"max\": 92,\n        \"num_unique_values\": 70,\n        \"samples\": [\n          61,\n          42,\n          59\n        ],\n        \"semantic_type\": \"\",\n        \"description\": \"\"\n      }\n    },\n    {\n      \"column\": \"Tenure\",\n      \"properties\": {\n        \"dtype\": \"number\",\n        \"std\": 2,\n        \"min\": 0,\n        \"max\": 10,\n        \"num_unique_values\": 11,\n        \"samples\": [\n          6,\n          2,\n          9\n        ],\n        \"semantic_type\": \"\",\n        \"description\": \"\"\n      }\n    },\n    {\n      \"column\": \"Balance\",\n      \"properties\": {\n        \"dtype\": \"number\",\n        \"std\": 62397.40520238623,\n        \"min\": 0.0,\n        \"max\": 250898.09,\n        \"num_unique_values\": 6382,\n        \"samples\": [\n          117707.18,\n          133050.97,\n          124271.26\n        ],\n        \"semantic_type\": \"\",\n        \"description\": \"\"\n      }\n    },\n    {\n      \"column\": \"NumOfProducts\",\n      \"properties\": {\n        \"dtype\": \"number\",\n        \"std\": 0,\n        \"min\": 1,\n        \"max\": 4,\n        \"num_unique_values\": 4,\n        \"samples\": [\n          3,\n          4,\n          1\n        ],\n        \"semantic_type\": \"\",\n        \"description\": \"\"\n      }\n    },\n    {\n      \"column\": \"HasCrCard\",\n      \"properties\": {\n        \"dtype\": \"number\",\n        \"std\": 0,\n        \"min\": 0,\n        \"max\": 1,\n        \"num_unique_values\": 2,\n        \"samples\": [\n          0,\n          1\n        ],\n        \"semantic_type\": \"\",\n        \"description\": \"\"\n      }\n    },\n    {\n      \"column\": \"IsActiveMember\",\n      \"properties\": {\n        \"dtype\": \"number\",\n        \"std\": 0,\n        \"min\": 0,\n        \"max\": 1,\n        \"num_unique_values\": 2,\n        \"samples\": [\n          0,\n          1\n        ],\n        \"semantic_type\": \"\",\n        \"description\": \"\"\n      }\n    },\n    {\n      \"column\": \"EstimatedSalary\",\n      \"properties\": {\n        \"dtype\": \"number\",\n        \"std\": 57510.49281769822,\n        \"min\": 11.58,\n        \"max\": 199992.48,\n        \"num_unique_values\": 9999,\n        \"samples\": [\n          100809.99,\n          95273.73\n        ],\n        \"semantic_type\": \"\",\n        \"description\": \"\"\n      }\n    },\n    {\n      \"column\": \"Exited\",\n      \"properties\": {\n        \"dtype\": \"number\",\n        \"std\": 0,\n        \"min\": 0,\n        \"max\": 1,\n        \"num_unique_values\": 2,\n        \"samples\": [\n          0,\n          1\n        ],\n        \"semantic_type\": \"\",\n        \"description\": \"\"\n      }\n    }\n  ]\n}"
            }
          },
          "metadata": {},
          "execution_count": 20
        }
      ]
    },
    {
      "cell_type": "code",
      "source": [
        "scaler = MinMaxScaler()\n",
        "df1 = pd.DataFrame(scaler.fit_transform(data))\n",
        "print(df1)"
      ],
      "metadata": {
        "colab": {
          "base_uri": "https://localhost:8080/"
        },
        "id": "WI3c-8fxRxH6",
        "outputId": "aaa19ac3-a4c5-4a86-aa66-7217c79b5d75"
      },
      "execution_count": 21,
      "outputs": [
        {
          "output_type": "stream",
          "name": "stdout",
          "text": [
            "          0         1      2         3    4         5         6    7    8   \\\n",
            "0     0.0000  0.275616  0.538  0.324324  0.2  0.000000  0.000000  1.0  1.0   \n",
            "1     0.0001  0.326454  0.516  0.310811  0.1  0.334031  0.000000  0.0  1.0   \n",
            "2     0.0002  0.214421  0.304  0.324324  0.8  0.636357  0.666667  1.0  0.0   \n",
            "3     0.0003  0.542636  0.698  0.283784  0.1  0.000000  0.333333  0.0  0.0   \n",
            "4     0.0004  0.688778  1.000  0.337838  0.2  0.500246  0.000000  1.0  1.0   \n",
            "...      ...       ...    ...       ...  ...       ...       ...  ...  ...   \n",
            "9995  0.9996  0.162119  0.842  0.283784  0.5  0.000000  0.333333  1.0  0.0   \n",
            "9996  0.9997  0.016765  0.332  0.229730  1.0  0.228657  0.000000  1.0  1.0   \n",
            "9997  0.9998  0.075327  0.718  0.243243  0.7  0.000000  0.000000  0.0  1.0   \n",
            "9998  0.9999  0.466637  0.844  0.324324  0.3  0.299226  0.333333  1.0  0.0   \n",
            "9999  1.0000  0.250483  0.884  0.135135  0.4  0.518708  0.000000  1.0  0.0   \n",
            "\n",
            "            9    10  \n",
            "0     0.506735  1.0  \n",
            "1     0.562709  0.0  \n",
            "2     0.569654  1.0  \n",
            "3     0.469120  0.0  \n",
            "4     0.395400  0.0  \n",
            "...        ...  ...  \n",
            "9995  0.481341  0.0  \n",
            "9996  0.508490  0.0  \n",
            "9997  0.210390  1.0  \n",
            "9998  0.464429  1.0  \n",
            "9999  0.190914  0.0  \n",
            "\n",
            "[10000 rows x 11 columns]\n"
          ]
        }
      ]
    },
    {
      "cell_type": "code",
      "source": [
        "X_train, X_test, y_train, y_test = train_test_split(X, y, test_size = 0.2)"
      ],
      "metadata": {
        "id": "rPFGmJYDR5WF"
      },
      "execution_count": 22,
      "outputs": []
    },
    {
      "cell_type": "code",
      "source": [
        "print(X_train)\n",
        "print(len(X_train))"
      ],
      "metadata": {
        "colab": {
          "base_uri": "https://localhost:8080/"
        },
        "id": "89ZVsqqtR8K9",
        "outputId": "52a7b1d1-7964-463e-ad83-19e7cd3a5d32"
      },
      "execution_count": 23,
      "outputs": [
        {
          "output_type": "stream",
          "name": "stdout",
          "text": [
            "[[2511 15607993 'Milne' ... 1 1 84606.03]\n",
            " [8807 15598940 'Achebe' ... 1 1 57517.71]\n",
            " [4067 15736154 'Gallo' ... 0 1 182495.7]\n",
            " ...\n",
            " [1169 15710456 'Balmain' ... 1 0 63495.86]\n",
            " [9389 15707138 'Nagy' ... 1 1 100060.54]\n",
            " [5340 15733966 'Johnstone' ... 1 1 31532.96]]\n",
            "8000\n"
          ]
        }
      ]
    },
    {
      "cell_type": "code",
      "source": [
        "print(X_test)\n",
        "print(len(X_test))"
      ],
      "metadata": {
        "colab": {
          "base_uri": "https://localhost:8080/"
        },
        "id": "tfSd0o2OR_5S",
        "outputId": "7217bb21-90d3-4d1d-974e-cb3a71e38390"
      },
      "execution_count": 24,
      "outputs": [
        {
          "output_type": "stream",
          "name": "stdout",
          "text": [
            "[[344 15684484 'White' ... 0 0 127587.22]\n",
            " [5438 15733476 'Gonzalez' ... 1 1 176692.65]\n",
            " [8069 15797710 'Saunders' ... 0 1 131712.51]\n",
            " ...\n",
            " [5446 15779174 'Young' ... 1 1 180142.42]\n",
            " [5278 15589924 'Rapuluolisa' ... 1 1 108787.0]\n",
            " [9045 15653347 'Chiu' ... 0 0 128882.66]]\n",
            "2000\n"
          ]
        }
      ]
    }
  ]
}